{
 "cells": [
  {
   "cell_type": "code",
   "execution_count": 1,
   "id": "1350865e",
   "metadata": {},
   "outputs": [],
   "source": [
    "import requests\n",
    "from bs4 import BeautifulSoup\n",
    "import pandas as pd\n",
    "from datetime import datetime\n",
    "import psycopg2\n",
    "from dotenv import load_dotenv\n",
    "import os"
   ]
  },
  {
   "cell_type": "code",
   "execution_count": null,
   "id": "c05d2c92",
   "metadata": {},
   "outputs": [],
   "source": [
    "def get_player_stats(first,last):\n",
    "    url = f'https://www.sports-reference.com/cbb/players/{first.lower()}-{last.lower()}-1.html'\n",
    "    response = requests.get(url)\n",
    "    soup = BeautifulSoup(response.content, 'html.parser')\n",
    "\n",
    "    # Extract basic player info (height, weight, birth date)\n",
    "    player_info = soup.find_all('p')\n",
    "    height = None\n",
    "    for info in player_info:\n",
    "        if 'cm' in info.text and 'kg' in info.text:  # Height and weight are usually mentioned with these units\n",
    "            height = info.text.strip()\n",
    "\n",
    "    # Extracting tables for per game stats and advanced stats\n",
    "    tables = soup.find_all('table')\n",
    "    stats = {}\n",
    "    for table in tables:\n",
    "        if table.get('id') in ['players_per_game', 'players_advanced']:\n",
    "            df = pd.read_html(str(table))[0]\n",
    "            if isinstance(df.columns, pd.MultiIndex):\n",
    "                df.columns = df.columns.droplevel(0)  # Dropping multi-level column headers only if they exist\n",
    "            stats[table.get('id')] = df\n",
    "    \n",
    "    return height, stats\n",
    "\n",
    "def get_player_information(first, last):\n",
    "    url = f'https://www.basketball-reference.com/players/{last[0].lower()}/{last[:5].lower() + first[:2].lower()}01.html'\n",
    "    response = requests.get(url)\n",
    "    soup = BeautifulSoup(response.content, 'html.parser')\n",
    "    \n",
    "    element_with_date_birth = soup.find('span', attrs={'data-birth': True})\n",
    "\n",
    "    # Extract the 'data-birth' attribute\n",
    "    date_birth = element_with_date_birth['data-birth'] if element_with_date_birth else None\n",
    "\n",
    "    return date_birth\n"
   ]
  },
  {
   "cell_type": "code",
   "execution_count": null,
   "id": "9af77974",
   "metadata": {},
   "outputs": [],
   "source": [
    "# Replace the URL with the page you want to scrape\n",
    "height, stats = get_player_stats(\"zion\", \"williamson\")\n",
    "birth_date = get_player_information(\"Zion\", \"Williamson\")\n",
    "\n",
    "print(\"Height and Weight:\", height)\n",
    "print(\"Birth Date:\", birth_date)\n",
    "print(\"\\nPer Game Stats:\\n\", stats.get('players_per_game').iloc[-2])\n",
    "print(\"\\nAdvanced Stats:\\n\", stats.get('players_advanced'))"
   ]
  },
  {
   "cell_type": "code",
   "execution_count": null,
   "id": "bd79f917",
   "metadata": {},
   "outputs": [],
   "source": [
    "def find_names(fullname):\n",
    "    \"\"\"\n",
    "    Takes in a full name and returns a tuple of the first and last name in lower case\n",
    "    \"\"\"\n",
    "    space = fullname.index(\" \")\n",
    "    first = fullname[:space].lower()\n",
    "    last = fullname[space+1:].lower()\n",
    "    return (first, last)\n",
    "\n",
    "def get_draft_class(year):\n",
    "    url = f\"https://www.basketball-reference.com/draft/NBA_{year}.html\"\n",
    "    response = requests.get(url)\n",
    "    # Parse the HTML content using BeautifulSoup\n",
    "    soup = BeautifulSoup(response.content, 'html.parser')\n",
    "\n",
    "    # Find the table containing the player names\n",
    "    # Assuming the player names are in 'td' tags with 'data-stat' attribute set to 'player'\n",
    "    player_name_cells = soup.find_all('td', {'data-stat': 'player'})\n",
    "\n",
    "    # Extract and print the player names\n",
    "    player_names = [cell.get_text() for cell in player_name_cells]\n",
    "    return player_names\n",
    "\n",
    "def fill_row(df, fullname):\n",
    "    \"\"\"\n",
    "    Fills the row \n",
    "    \"\"\"\n",
    "    first, last = find_names(fullname)\n",
    "    try:\n",
    "        url = f'https://www.sports-reference.com/cbb/players/{first}-{last}-1.html'\n",
    "        \n",
    "    except: \n",
    "        pass"
   ]
  },
  {
   "cell_type": "code",
   "execution_count": null,
   "id": "aec7cfd2",
   "metadata": {},
   "outputs": [],
   "source": [
    "get_draft_class(2013)"
   ]
  },
  {
   "cell_type": "markdown",
   "id": "e9b5ded6",
   "metadata": {},
   "source": [
    "# SQL functions"
   ]
  },
  {
   "cell_type": "code",
   "execution_count": 12,
   "id": "f09a97c9",
   "metadata": {},
   "outputs": [
    {
     "name": "stdout",
     "output_type": "stream",
     "text": [
      "Connected to the database.\n"
     ]
    }
   ],
   "source": [
    "def sql_connection():\n",
    "    load_dotenv()\n",
    "\n",
    "    # Accessing variables from .env file\n",
    "    db_name = os.getenv('DB_NAME')\n",
    "    db_user = os.getenv('DB_USER')\n",
    "    db_pass = os.getenv('DB_PASS')\n",
    "    db_host = os.getenv('DB_HOST')\n",
    "    db_port = os.getenv('DB_PORT')\n",
    "    \n",
    "    try:\n",
    "        conn = psycopg2.connect(\n",
    "            dbname=db_name,\n",
    "            user=db_user,\n",
    "            password=db_pass,\n",
    "            host=db_host,\n",
    "            port=db_port\n",
    "        )\n",
    "        print(\"Connected to the database.\")\n",
    "        return conn.cursor()\n",
    "    except Exception as e:\n",
    "        print(\"Unable to connect to the database.\")\n",
    "        print(e)\n",
    "        return None\n",
    "\n",
    "def insert_player(cursor, player_tuple):\n",
    "    \"\"\"\n",
    "    Inserts a row into the Player table\n",
    "    \n",
    "    cursor : SQL connection cursor\n",
    "    player_tuple : <tuple> contains player information\n",
    "    \n",
    "    Returns the created ID of the player\n",
    "    \"\"\"\n",
    "    insert_statement = \"\"\"\n",
    "    INSERT INTO \"Players\" (\"PlayerName\", \"DOB\", \"Rating\", \"DraftYear\") VALUES (%s, %s, %s, %s) RETURNING \"PlayerID\";\n",
    "    \"\"\"\n",
    "    try:\n",
    "        cursor.execute(insert_statement, player_tuple)\n",
    "        generated_id = cursor.fetchone()[0]  # Fetch the generated ID\n",
    "        print(\"Added Player Successfully\")\n",
    "        return generated_id\n",
    "    except Exception as e:\n",
    "        print(\"Unable to insert to the Players Table.\")\n",
    "        print(e)\n",
    "        return None\n",
    "    \n",
    "def insert_stats(cursor, playerID, stat_dict):\n",
    "    \"\"\"\n",
    "    Inserts a row into the PlayerStats table\n",
    "    \n",
    "    cursor : SQL connection cursor\n",
    "    playerID : <int> id of player in the database\n",
    "    stat_dict : <dictionary> contains stat names as keys and player\n",
    "                stats as values\n",
    "    \"\"\"\n",
    "    return"
   ]
  },
  {
   "cell_type": "code",
   "execution_count": null,
   "id": "500d044a",
   "metadata": {},
   "outputs": [],
   "source": [
    "cursor = sql_connection()"
   ]
  },
  {
   "cell_type": "code",
   "execution_count": 13,
   "id": "c2ad7462",
   "metadata": {},
   "outputs": [
    {
     "name": "stdout",
     "output_type": "stream",
     "text": [
      "Added Player Successfully\n"
     ]
    },
    {
     "data": {
      "text/plain": [
       "2"
      ]
     },
     "execution_count": 13,
     "metadata": {},
     "output_type": "execute_result"
    }
   ],
   "source": [
    "player_tuple = (\"Daniel Wong\", \"2000-01-01\", 5, 2023)\n",
    "insert_player(cursor, player_tuple)"
   ]
  },
  {
   "cell_type": "code",
   "execution_count": null,
   "id": "2377ddd9",
   "metadata": {},
   "outputs": [],
   "source": []
  }
 ],
 "metadata": {
  "kernelspec": {
   "display_name": "Python 3 (ipykernel)",
   "language": "python",
   "name": "python3"
  },
  "language_info": {
   "codemirror_mode": {
    "name": "ipython",
    "version": 3
   },
   "file_extension": ".py",
   "mimetype": "text/x-python",
   "name": "python",
   "nbconvert_exporter": "python",
   "pygments_lexer": "ipython3",
   "version": "3.9.7"
  }
 },
 "nbformat": 4,
 "nbformat_minor": 5
}
