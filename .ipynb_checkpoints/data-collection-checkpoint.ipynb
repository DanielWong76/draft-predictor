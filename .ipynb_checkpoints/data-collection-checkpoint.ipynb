{
 "cells": [
  {
   "cell_type": "code",
   "execution_count": 1,
   "id": "1350865e",
   "metadata": {},
   "outputs": [],
   "source": [
    "import requests\n",
    "from bs4 import BeautifulSoup\n",
    "import pandas as pd\n",
    "from datetime import datetime\n",
    "import psycopg2\n",
    "from dotenv import load_dotenv\n",
    "import os"
   ]
  },
  {
   "cell_type": "markdown",
   "id": "5314eb5d",
   "metadata": {},
   "source": [
    "# Web Scrape Stats"
   ]
  },
  {
   "cell_type": "code",
   "execution_count": null,
   "id": "c05d2c92",
   "metadata": {},
   "outputs": [],
   "source": [
    "def get_player_stats(first,last):\n",
    "    \"\"\"\n",
    "    Returns stats and height of player obtained from sportsreference.com.\n",
    "    \"\"\"\n",
    "    url = f'https://www.sports-reference.com/cbb/players/{first.lower()}-{last.lower()}-1.html'\n",
    "    response = requests.get(url)\n",
    "    soup = BeautifulSoup(response.content, 'html.parser')\n",
    "\n",
    "    # Extract basic player info (height, weight, birth date)\n",
    "    player_info = soup.find_all('p')\n",
    "    height = None\n",
    "    for info in player_info:\n",
    "        if 'cm' in info.text and 'kg' in info.text:  # Height and weight are usually mentioned with these units\n",
    "            height = info.text.strip()\n",
    "\n",
    "    # Extracting tables for per game stats and advanced stats\n",
    "    tables = soup.find_all('table')\n",
    "    stats = {}\n",
    "    for table in tables:\n",
    "        if table.get('id') in ['players_per_game', 'players_advanced']:\n",
    "            df = pd.read_html(str(table))[0]\n",
    "            if isinstance(df.columns, pd.MultiIndex):\n",
    "                df.columns = df.columns.droplevel(0)  # Dropping multi-level column headers only if they exist\n",
    "            stats[table.get('id')] = df\n",
    "    \n",
    "    return height, stats\n",
    "\n",
    "def get_player_information(first, last):\n",
    "    \"\"\"\n",
    "    Obtains players date of birth from basketballreference.com.\n",
    "    \"\"\"\n",
    "    url = f'https://www.basketball-reference.com/players/{last[0].lower()}/{last[:5].lower() + first[:2].lower()}01.html'\n",
    "    response = requests.get(url)\n",
    "    soup = BeautifulSoup(response.content, 'html.parser')\n",
    "    \n",
    "    element_with_date_birth = soup.find('span', attrs={'data-birth': True})\n",
    "\n",
    "    # Extract the 'data-birth' attribute\n",
    "    date_birth = element_with_date_birth['data-birth'] if element_with_date_birth else None\n",
    "\n",
    "    return date_birth\n",
    "\n",
    "def get_draft_class(year):\n",
    "    \"\"\"\n",
    "    Returns a list of player names from the given NBA draft year.\n",
    "    \"\"\"\n",
    "    url = f\"https://www.basketball-reference.com/draft/NBA_{year}.html\"\n",
    "    response = requests.get(url)\n",
    "    # Parse the HTML content using BeautifulSoup\n",
    "    soup = BeautifulSoup(response.content, 'html.parser')\n",
    "\n",
    "    # Find the table containing the player names\n",
    "    # Assuming the player names are in 'td' tags with 'data-stat' attribute set to 'player'\n",
    "    player_name_cells = soup.find_all('td', {'data-stat': 'player'})\n",
    "\n",
    "    # Extract and print the player names\n",
    "    player_names = [cell.get_text() for cell in player_name_cells]\n",
    "    return player_names"
   ]
  },
  {
   "cell_type": "code",
   "execution_count": null,
   "id": "9af77974",
   "metadata": {},
   "outputs": [],
   "source": [
    "# Replace the URL with the page you want to scrape\n",
    "height, stats = get_player_stats(\"zion\", \"williamson\")\n",
    "birth_date = get_player_information(\"Zion\", \"Williamson\")\n",
    "\n",
    "players_per_game = stats.get('players_per_game')\n",
    "players_advanced = stats.get('players_advanced')\n",
    "\n",
    "players_per_game.drop(columns=[\"Season\", \"School\", \"Conf\", \"Class\", \"GS\", \"2P\", \"2PA\", \"2P%\", \"ORB\", \"DRB\", \"Unnamed: 28\"], inplace=True)\n",
    "players_advanced.drop(columns=[\"Season\", \"School\", \"Conf\", \"Class\", \"G\", \"GS\", \"MP\", \"Unnamed: 21\", \"Unnamed: 26\", \"BPM\", \"WS\", \"WS/40\"], inplace=True)\n",
    "\n",
    "print(\"Height and Weight:\", height)\n",
    "print(\"Birth Date:\", birth_date)\n",
    "print(\"\\nPer Game Stats:\\n\", players_per_game.iloc[-2])\n",
    "print(\"\\nAdvanced Stats:\\n\", players_advanced.iloc[-2])"
   ]
  },
  {
   "cell_type": "code",
   "execution_count": null,
   "id": "30fd071f",
   "metadata": {},
   "outputs": [],
   "source": [
    "stats.get('players_per_game').iloc[-2]"
   ]
  },
  {
   "cell_type": "code",
   "execution_count": null,
   "id": "aec7cfd2",
   "metadata": {},
   "outputs": [],
   "source": [
    "get_draft_class(2013)"
   ]
  },
  {
   "cell_type": "markdown",
   "id": "e9b5ded6",
   "metadata": {},
   "source": [
    "# SQL functions"
   ]
  },
  {
   "cell_type": "code",
   "execution_count": 17,
   "id": "f09a97c9",
   "metadata": {},
   "outputs": [],
   "source": [
    "def sql_connection():\n",
    "    \"\"\"\n",
    "    Creates a connection to the postgresql server\n",
    "    \"\"\"\n",
    "    \n",
    "    load_dotenv()\n",
    "\n",
    "    # Accessing variables from .env file\n",
    "    db_name = os.getenv('DB_NAME')\n",
    "    db_user = os.getenv('DB_USER')\n",
    "    db_pass = os.getenv('DB_PASS')\n",
    "    db_host = os.getenv('DB_HOST')\n",
    "    db_port = os.getenv('DB_PORT')\n",
    "    \n",
    "    try:\n",
    "        conn = psycopg2.connect(\n",
    "            dbname=db_name,\n",
    "            user=db_user,\n",
    "            password=db_pass,\n",
    "            host=db_host,\n",
    "            port=db_port\n",
    "        )\n",
    "        print(\"Connected to the database.\")\n",
    "        return (conn, conn.cursor())\n",
    "    except Exception as e:\n",
    "        print(\"Unable to connect to the database.\")\n",
    "        print(e)\n",
    "        return None\n",
    "\n",
    "def insert_player(conn, cursor, player_tuple):\n",
    "    \"\"\"\n",
    "    Inserts a row into the Player table\n",
    "    \n",
    "    cursor : SQL connection cursor\n",
    "    player_tuple : <tuple> contains player information\n",
    "    \n",
    "    Returns the created ID of the player\n",
    "    \"\"\"\n",
    "    insert_statement = \"\"\"\n",
    "    INSERT INTO \"Players\" (\"PlayerName\", \"DOB\", \"Rating\", \"DraftYear\") VALUES (%s, %s, %s, %s) RETURNING \"PlayerID\";\n",
    "    \"\"\"\n",
    "    try:\n",
    "        cursor.execute(insert_statement, player_tuple)\n",
    "        generated_id = cursor.fetchone()[0]  # Fetch the generated ID\n",
    "        conn.commit()\n",
    "        print(\"Added Player Successfully\")\n",
    "        return generated_id\n",
    "    except Exception as e:\n",
    "        print(\"Unable to insert to the Players Table.\")\n",
    "        print(e)\n",
    "        return None\n",
    "    \n",
    "def insert_stats(conn, cursor, stat_tuple):\n",
    "    \"\"\"\n",
    "    Inserts a row into the PlayerStats table\n",
    "    \n",
    "    conn : SQL connection\n",
    "    cursor : SQL connection cursor\n",
    "    stat_dict : <tuple> contains stat to be insert into the table\n",
    "    \"\"\"\n",
    "    insert_statement = \"\"\"\n",
    "    INSERT INTO \"PlayerStats\" (\"PlayerID\", \"Games\", \"MPG\", \"FG\", \"FGA\", \"FGP\", \"3P\", \"3PA\", \"3PP\", \"FT\", \"FTA\", \"FTP\", \"RPG\", \"APG\", \"SPG\", \"BPG\", \"TOV\", \"PF\", \"PPG\", \"SOS\", \"PER\", \"TS\", \"eFG\", \"3PAr\", \"FTr\", \"PProd\", \"ORBP\", \"DRBP\", \"TRBP\", \"ASTP\", \"STLP\", \"BLKP\", \"TOVP\", \"USG\", \"OWS\", \"DWS\", \"OBPM\", \"DBPM\") VALUES (%s, %s, %s, %s, %s, %s, %s, %s, %s, %s, %s, %s, %s, %s, %s, %s, %s, %s, %s, %s, %s, %s, %s, %s, %s, %s, %s, %s, %s, %s, %s, %s, %s, %s, %s, %s, %s, %s) RETURNING \"StatID\";\n",
    "    \"\"\"\n",
    "    \n",
    "    print(insert_statement, stat_tuple)\n",
    "    try:\n",
    "        cursor.execute(insert_statement, stat_tuple)\n",
    "        generated_id = cursor.fetchone()[0]  # Fetch the generated ID\n",
    "        conn.commit()\n",
    "        print(\"Added Stat Successfully\")\n",
    "        return generated_id\n",
    "    except Exception as e:\n",
    "        print(\"Unable to insert to the Stats Table.\")\n",
    "        print(e)\n",
    "        print(\"Data tuple:\", stat_tuple)\n",
    "        return None"
   ]
  },
  {
   "cell_type": "code",
   "execution_count": 13,
   "id": "500d044a",
   "metadata": {},
   "outputs": [
    {
     "name": "stdout",
     "output_type": "stream",
     "text": [
      "Connected to the database.\n"
     ]
    }
   ],
   "source": [
    "conn, cursor = sql_connection()"
   ]
  },
  {
   "cell_type": "code",
   "execution_count": 14,
   "id": "e8702ab9",
   "metadata": {},
   "outputs": [
    {
     "name": "stdout",
     "output_type": "stream",
     "text": [
      "Added Player Successfully\n"
     ]
    }
   ],
   "source": [
    "pid = insert_player(cursor, (\"Lebron James\", \"1988-02-04\", 5, 2003)) "
   ]
  },
  {
   "cell_type": "code",
   "execution_count": 15,
   "id": "c33539a4",
   "metadata": {},
   "outputs": [
    {
     "data": {
      "text/plain": [
       "4"
      ]
     },
     "execution_count": 15,
     "metadata": {},
     "output_type": "execute_result"
    }
   ],
   "source": [
    "pid"
   ]
  },
  {
   "cell_type": "code",
   "execution_count": 18,
   "id": "e70fd44f",
   "metadata": {
    "scrolled": true
   },
   "outputs": [
    {
     "name": "stdout",
     "output_type": "stream",
     "text": [
      "\n",
      "    INSERT INTO \"PlayerStats\" (\"PlayerID\", \"Games\", \"MPG\", \"FG\", \"FGA\", \"FGP\", \"3P\", \"3PA\", \"3PP\", \"FT\", \"FTA\", \"FTP\", \"RPG\", \"APG\", \"SPG\", \"BPG\", \"TOV\", \"PF\", \"PPG\", \"SOS\", \"PER\", \"TS\", \"eFG\", \"3PAr\", \"FTr\", \"PProd\", \"ORBP\", \"DRBP\", \"TRBP\", \"ASTP\", \"STLP\", \"BLKP\", \"TOVP\", \"USG\", \"OWS\", \"DWS\", \"OBPM\", \"DBPM\") VALUES (%s, %s, %s, %s, %s, %s, %s, %s, %s, %s, %s, %s, %s, %s, %s, %s, %s, %s, %s, %s, %s, %s, %s, %s, %s, %s, %s, %s, %s, %s, %s, %s, %s, %s, %s, %s, %s, %s) RETURNING \"StatID\";\n",
      "     (4, 10, 22.4, 7.2, 10.4, 0.672, 1.4, 3.3, 0.314, 3.2, 4.7, 0.702, 5.2, 7.5, 2.1, 1.3, 2.5, 3.3, 20.1, 8.22, 22.3, 0.654, 0.703, 0.133, 0.421, 431, 14.5, 13.5, 13.9, 22.4, 10.9, 8.2, 13.4, 23.2, 12.1, 6.4, 13.1, 5.4)\n",
      "hi\n",
      "Added Stat Successfully\n"
     ]
    },
    {
     "data": {
      "text/plain": [
       "2"
      ]
     },
     "execution_count": 18,
     "metadata": {},
     "output_type": "execute_result"
    }
   ],
   "source": [
    "stat_tuple = (4, 10, 22.4, 7.2, 10.4, .672, 1.4, 3.3, .314, 3.2, 4.7, .702, 5.2, 7.5, 2.1, 1.3, 2.5, 3.3, 20.1, 8.22, 22.3, .654, .703, .133, .421, 431, 14.5, 13.5, 13.9, 22.4, 10.9, 8.2, 13.4, 23.2, 12.1, 6.4, 13.1, 5.4)\n",
    "insert_stats(conn, cursor, stat_tuple)"
   ]
  },
  {
   "cell_type": "code",
   "execution_count": null,
   "id": "c2ad7462",
   "metadata": {},
   "outputs": [],
   "source": [
    "def find_names(fullname):\n",
    "    \"\"\"\n",
    "    Takes in a full name and returns a tuple of the first and last name in lower case\n",
    "    \"\"\"\n",
    "    space = fullname.index(\" \")\n",
    "    first = fullname[:space].lower()\n",
    "    last = fullname[space+1:].lower()\n",
    "    return (first, last)\n",
    "\n",
    "def fill_draft_class(conn, cursor, year):\n",
    "    \"\"\"\n",
    "    Fills the database with players from the given draft year\n",
    "    \"\"\"\n",
    "    inserted = []\n",
    "    player_names = get_draft_class(year)\n",
    "    for player in player_names:\n",
    "        first, last = find_names(player)\n",
    "        height, stats = get_player_stats(first, last)\n",
    "        birth_date = get_player_information(first, last)\n",
    "        \n",
    "        if height is not None and stats is not None and birth_date is not None:\n",
    "            player_tuple = (player, birth_date, 0, year)\n",
    "            playerID = insert_player(conn, cursor, player_tuple)\n",
    "            \n",
    "            if playerID is not None:\n",
    "                players_per_game = stats.get('players_per_game')\n",
    "                players_advanced = stats.get('players_advanced')\n",
    "\n",
    "                players_per_game.drop(columns=[\"Season\", \"School\", \"Conf\", \"Class\", \"GS\", \"2P\", \"2PA\", \"2P%\", \"ORB\", \"DRB\", \"Unnamed: 28\"], inplace=True)\n",
    "                players_advanced.drop(columns=[\"Season\", \"School\", \"Conf\", \"Class\", \"G\", \"GS\", \"MP\", \"Unnamed: 21\", \"Unnamed: 26\", \"BPM\", \"WS\", \"WS/40\"], inplace=True)\n",
    "                \n",
    "                stat_tuple = tuple([playerID] + players_per_game.iloc[-2].tolist() + players_advanced.iloc[-2].tolist())\n",
    "                insert_stats(conn, cursor, stat_tuple)\n",
    "                \n",
    "                inserted.append(player)\n",
    "                \n",
    "    return inserted\n",
    "\n",
    "def fill_drafts(conn, cursor, start, end):\n",
    "    \"\"\"\n",
    "    Fills the database with information on players from draft classes start-end\n",
    "    \"\"\"\n",
    "    players = []\n",
    "    for draft_year in range(start, end+1):\n",
    "        draft_players = fill_draft_class(conn, cursor, draft_year)\n",
    "        players += draft_players\n",
    "    \n",
    "    return players"
   ]
  },
  {
   "cell_type": "code",
   "execution_count": null,
   "id": "2377ddd9",
   "metadata": {},
   "outputs": [],
   "source": []
  }
 ],
 "metadata": {
  "kernelspec": {
   "display_name": "Python 3 (ipykernel)",
   "language": "python",
   "name": "python3"
  },
  "language_info": {
   "codemirror_mode": {
    "name": "ipython",
    "version": 3
   },
   "file_extension": ".py",
   "mimetype": "text/x-python",
   "name": "python",
   "nbconvert_exporter": "python",
   "pygments_lexer": "ipython3",
   "version": "3.9.7"
  }
 },
 "nbformat": 4,
 "nbformat_minor": 5
}
